{
 "cells": [
  {
   "cell_type": "markdown",
   "metadata": {
    "deletable": true,
    "editable": true
   },
   "source": [
    "# Submission Information:\n",
    "\n",
    "### Team Name:\n",
    "* hahaha\n",
    "\n",
    "### Team Member 1:\n",
    "* UNI:  ds3516\n",
    "* Name: Danning Sui\n",
    "\n",
    "### Team Member 2:\n",
    "* UNI:  mz2597\n",
    "* Name: Minghong Zheng"
   ]
  },
  {
   "cell_type": "markdown",
   "metadata": {
    "deletable": true,
    "editable": true
   },
   "source": [
    "# Step0 - Import Libraries, Load Data [0 points]\n",
    "\n",
    "This is the basic step where you can load the data and create train and test sets for internal validation as per your convinience."
   ]
  },
  {
   "cell_type": "code",
   "execution_count": 62,
   "metadata": {
    "collapsed": true,
    "deletable": true,
    "editable": true
   },
   "outputs": [],
   "source": [
    "#write code below, you can make multiple cells\n",
    "import numpy as np\n",
    "import pandas as pd\n",
    "import matplotlib.pyplot as plt\n",
    "%matplotlib inline\n",
    "from sklearn.metrics import roc_auc_score\n",
    "from sklearn.model_selection import cross_val_score\n",
    "from sklearn.preprocessing import MinMaxScaler\n",
    "from scipy import stats"
   ]
  },
  {
   "cell_type": "markdown",
   "metadata": {
    "deletable": true,
    "editable": true
   },
   "source": [
    "# Step1 - Exploration and Preparation [10 points]\n",
    "\n",
    "In this step, we expect you to look into the data and try to understand it before modeling. This understanding may lead to some basic data preparation steps which are common across the two model sets required."
   ]
  },
  {
   "cell_type": "code",
   "execution_count": 63,
   "metadata": {
    "collapsed": false,
    "deletable": true,
    "editable": true
   },
   "outputs": [],
   "source": [
    "#write code below, you can make multiple cells\n",
    "df = pd.read_csv(\"data/data.csv\", na_values = 99999)\n",
    "holdout = pd.read_csv('data/holdout.csv')\n",
    "\n",
    "\n",
    "# information leakage feature drop\n",
    "data = df.drop(\"duration\", axis = 1)\n",
    "holdout = holdout.drop('duration', axis = 1)"
   ]
  },
  {
   "cell_type": "markdown",
   "metadata": {
    "deletable": true,
    "editable": true
   },
   "source": [
    "Since the duration of a call is not known before a call, so drop the duration column"
   ]
  },
  {
   "cell_type": "code",
   "execution_count": 3,
   "metadata": {
    "collapsed": false,
    "deletable": true,
    "editable": true
   },
   "outputs": [],
   "source": [
    "########## imputation NaN ############\n",
    "\n",
    "holdout.replace({'credit_default':{np.nan:'unknown'}},inplace = True)"
   ]
  },
  {
   "cell_type": "markdown",
   "metadata": {
    "deletable": true,
    "editable": true
   },
   "source": [
    "As you can see below, there are no other missing values."
   ]
  },
  {
   "cell_type": "code",
   "execution_count": 4,
   "metadata": {
    "collapsed": false,
    "deletable": true,
    "editable": true
   },
   "outputs": [
    {
     "data": {
      "text/plain": [
       "age               0\n",
       "job               0\n",
       "marital_status    0\n",
       "education         0\n",
       "credit_default    0\n",
       "housing           0\n",
       "loan              0\n",
       "contact           0\n",
       "month             0\n",
       "day_of_week       0\n",
       "campaign          0\n",
       "prev_days         0\n",
       "prev_contacts     0\n",
       "prev_outcomes     0\n",
       "emp_var_rate      0\n",
       "cons_price_idx    0\n",
       "cons_conf_idx     0\n",
       "euribor3m         0\n",
       "nr_employed       0\n",
       "subscribed        0\n",
       "dtype: int64"
      ]
     },
     "execution_count": 4,
     "metadata": {},
     "output_type": "execute_result"
    }
   ],
   "source": [
    "data.isnull().sum()"
   ]
  },
  {
   "cell_type": "code",
   "execution_count": 5,
   "metadata": {
    "collapsed": false,
    "deletable": true,
    "editable": true
   },
   "outputs": [
    {
     "data": {
      "text/html": [
       "<div>\n",
       "<table border=\"1\" class=\"dataframe\">\n",
       "  <thead>\n",
       "    <tr style=\"text-align: right;\">\n",
       "      <th></th>\n",
       "      <th>age</th>\n",
       "      <th>job</th>\n",
       "      <th>marital_status</th>\n",
       "      <th>education</th>\n",
       "      <th>credit_default</th>\n",
       "      <th>housing</th>\n",
       "      <th>loan</th>\n",
       "      <th>contact</th>\n",
       "      <th>month</th>\n",
       "      <th>day_of_week</th>\n",
       "      <th>campaign</th>\n",
       "      <th>prev_days</th>\n",
       "      <th>prev_contacts</th>\n",
       "      <th>prev_outcomes</th>\n",
       "      <th>emp_var_rate</th>\n",
       "      <th>cons_price_idx</th>\n",
       "      <th>cons_conf_idx</th>\n",
       "      <th>euribor3m</th>\n",
       "      <th>nr_employed</th>\n",
       "      <th>subscribed</th>\n",
       "    </tr>\n",
       "  </thead>\n",
       "  <tbody>\n",
       "    <tr>\n",
       "      <th>0</th>\n",
       "      <td>41.0</td>\n",
       "      <td>blue-collar</td>\n",
       "      <td>married</td>\n",
       "      <td>basic.9y</td>\n",
       "      <td>no</td>\n",
       "      <td>yes</td>\n",
       "      <td>no</td>\n",
       "      <td>cellular</td>\n",
       "      <td>apr</td>\n",
       "      <td>mon</td>\n",
       "      <td>2.0</td>\n",
       "      <td>999</td>\n",
       "      <td>0</td>\n",
       "      <td>nonexistent</td>\n",
       "      <td>-1.695118</td>\n",
       "      <td>92.698705</td>\n",
       "      <td>-46.727552</td>\n",
       "      <td>1.345160</td>\n",
       "      <td>5097.0</td>\n",
       "      <td>no</td>\n",
       "    </tr>\n",
       "    <tr>\n",
       "      <th>1</th>\n",
       "      <td>46.0</td>\n",
       "      <td>entrepreneur</td>\n",
       "      <td>married</td>\n",
       "      <td>unknown</td>\n",
       "      <td>no</td>\n",
       "      <td>no</td>\n",
       "      <td>no</td>\n",
       "      <td>cellular</td>\n",
       "      <td>may</td>\n",
       "      <td>wed</td>\n",
       "      <td>2.0</td>\n",
       "      <td>999</td>\n",
       "      <td>0</td>\n",
       "      <td>nonexistent</td>\n",
       "      <td>-1.767159</td>\n",
       "      <td>92.914878</td>\n",
       "      <td>-46.313088</td>\n",
       "      <td>1.314499</td>\n",
       "      <td>5100.0</td>\n",
       "      <td>no</td>\n",
       "    </tr>\n",
       "    <tr>\n",
       "      <th>2</th>\n",
       "      <td>56.0</td>\n",
       "      <td>unemployed</td>\n",
       "      <td>married</td>\n",
       "      <td>basic.9y</td>\n",
       "      <td>no</td>\n",
       "      <td>yes</td>\n",
       "      <td>yes</td>\n",
       "      <td>cellular</td>\n",
       "      <td>nov</td>\n",
       "      <td>fri</td>\n",
       "      <td>1.0</td>\n",
       "      <td>999</td>\n",
       "      <td>0</td>\n",
       "      <td>nonexistent</td>\n",
       "      <td>-0.100365</td>\n",
       "      <td>93.423076</td>\n",
       "      <td>-41.904559</td>\n",
       "      <td>4.003471</td>\n",
       "      <td>5193.0</td>\n",
       "      <td>no</td>\n",
       "    </tr>\n",
       "    <tr>\n",
       "      <th>3</th>\n",
       "      <td>89.0</td>\n",
       "      <td>retired</td>\n",
       "      <td>divorced</td>\n",
       "      <td>basic.4y</td>\n",
       "      <td>no</td>\n",
       "      <td>yes</td>\n",
       "      <td>no</td>\n",
       "      <td>cellular</td>\n",
       "      <td>may</td>\n",
       "      <td>wed</td>\n",
       "      <td>4.0</td>\n",
       "      <td>999</td>\n",
       "      <td>0</td>\n",
       "      <td>nonexistent</td>\n",
       "      <td>-1.771314</td>\n",
       "      <td>93.672814</td>\n",
       "      <td>-46.045500</td>\n",
       "      <td>1.261668</td>\n",
       "      <td>5100.0</td>\n",
       "      <td>no</td>\n",
       "    </tr>\n",
       "    <tr>\n",
       "      <th>4</th>\n",
       "      <td>34.0</td>\n",
       "      <td>entrepreneur</td>\n",
       "      <td>married</td>\n",
       "      <td>university.degree</td>\n",
       "      <td>unknown</td>\n",
       "      <td>yes</td>\n",
       "      <td>no</td>\n",
       "      <td>cellular</td>\n",
       "      <td>jul</td>\n",
       "      <td>thu</td>\n",
       "      <td>8.0</td>\n",
       "      <td>999</td>\n",
       "      <td>0</td>\n",
       "      <td>nonexistent</td>\n",
       "      <td>1.458103</td>\n",
       "      <td>94.296285</td>\n",
       "      <td>-42.455877</td>\n",
       "      <td>5.152077</td>\n",
       "      <td>5233.0</td>\n",
       "      <td>no</td>\n",
       "    </tr>\n",
       "  </tbody>\n",
       "</table>\n",
       "</div>"
      ],
      "text/plain": [
       "    age           job marital_status          education credit_default  \\\n",
       "0  41.0   blue-collar        married           basic.9y             no   \n",
       "1  46.0  entrepreneur        married            unknown             no   \n",
       "2  56.0    unemployed        married           basic.9y             no   \n",
       "3  89.0       retired       divorced           basic.4y             no   \n",
       "4  34.0  entrepreneur        married  university.degree        unknown   \n",
       "\n",
       "  housing loan   contact month day_of_week  campaign  prev_days  \\\n",
       "0     yes   no  cellular   apr         mon       2.0        999   \n",
       "1      no   no  cellular   may         wed       2.0        999   \n",
       "2     yes  yes  cellular   nov         fri       1.0        999   \n",
       "3     yes   no  cellular   may         wed       4.0        999   \n",
       "4     yes   no  cellular   jul         thu       8.0        999   \n",
       "\n",
       "   prev_contacts prev_outcomes  emp_var_rate  cons_price_idx  cons_conf_idx  \\\n",
       "0              0   nonexistent     -1.695118       92.698705     -46.727552   \n",
       "1              0   nonexistent     -1.767159       92.914878     -46.313088   \n",
       "2              0   nonexistent     -0.100365       93.423076     -41.904559   \n",
       "3              0   nonexistent     -1.771314       93.672814     -46.045500   \n",
       "4              0   nonexistent      1.458103       94.296285     -42.455877   \n",
       "\n",
       "   euribor3m  nr_employed subscribed  \n",
       "0   1.345160       5097.0         no  \n",
       "1   1.314499       5100.0         no  \n",
       "2   4.003471       5193.0         no  \n",
       "3   1.261668       5100.0         no  \n",
       "4   5.152077       5233.0         no  "
      ]
     },
     "execution_count": 5,
     "metadata": {},
     "output_type": "execute_result"
    }
   ],
   "source": [
    "data.head()"
   ]
  },
  {
   "cell_type": "markdown",
   "metadata": {
    "deletable": true,
    "editable": true
   },
   "source": [
    "Check the data types\n",
    "\n",
    "As you can see. Most of the data are categorical data "
   ]
  },
  {
   "cell_type": "code",
   "execution_count": 6,
   "metadata": {
    "collapsed": false,
    "deletable": true,
    "editable": true
   },
   "outputs": [
    {
     "data": {
      "text/plain": [
       "age               float64\n",
       "job                object\n",
       "marital_status     object\n",
       "education          object\n",
       "credit_default     object\n",
       "housing            object\n",
       "loan               object\n",
       "contact            object\n",
       "month              object\n",
       "day_of_week        object\n",
       "campaign          float64\n",
       "prev_days           int64\n",
       "prev_contacts       int64\n",
       "prev_outcomes      object\n",
       "emp_var_rate      float64\n",
       "cons_price_idx    float64\n",
       "cons_conf_idx     float64\n",
       "euribor3m         float64\n",
       "nr_employed       float64\n",
       "subscribed         object\n",
       "dtype: object"
      ]
     },
     "execution_count": 6,
     "metadata": {},
     "output_type": "execute_result"
    }
   ],
   "source": [
    "data.dtypes"
   ]
  },
  {
   "cell_type": "code",
   "execution_count": 7,
   "metadata": {
    "collapsed": false,
    "deletable": true,
    "editable": true
   },
   "outputs": [
    {
     "data": {
      "text/html": [
       "<div>\n",
       "<table border=\"1\" class=\"dataframe\">\n",
       "  <thead>\n",
       "    <tr style=\"text-align: right;\">\n",
       "      <th></th>\n",
       "      <th>age</th>\n",
       "      <th>campaign</th>\n",
       "      <th>prev_days</th>\n",
       "      <th>prev_contacts</th>\n",
       "      <th>emp_var_rate</th>\n",
       "      <th>cons_price_idx</th>\n",
       "      <th>cons_conf_idx</th>\n",
       "      <th>euribor3m</th>\n",
       "      <th>nr_employed</th>\n",
       "    </tr>\n",
       "  </thead>\n",
       "  <tbody>\n",
       "    <tr>\n",
       "      <th>count</th>\n",
       "      <td>32950.000000</td>\n",
       "      <td>32950.000000</td>\n",
       "      <td>32950.000000</td>\n",
       "      <td>32950.000000</td>\n",
       "      <td>32950.000000</td>\n",
       "      <td>32950.000000</td>\n",
       "      <td>32950.000000</td>\n",
       "      <td>32950.000000</td>\n",
       "      <td>32950.000000</td>\n",
       "    </tr>\n",
       "    <tr>\n",
       "      <th>mean</th>\n",
       "      <td>40.019059</td>\n",
       "      <td>2.641639</td>\n",
       "      <td>961.537906</td>\n",
       "      <td>0.174385</td>\n",
       "      <td>0.080115</td>\n",
       "      <td>93.583705</td>\n",
       "      <td>-40.496740</td>\n",
       "      <td>3.618901</td>\n",
       "      <td>5166.932832</td>\n",
       "    </tr>\n",
       "    <tr>\n",
       "      <th>std</th>\n",
       "      <td>10.850807</td>\n",
       "      <td>2.803230</td>\n",
       "      <td>189.209917</td>\n",
       "      <td>0.498989</td>\n",
       "      <td>1.573180</td>\n",
       "      <td>1.162662</td>\n",
       "      <td>4.645301</td>\n",
       "      <td>1.737149</td>\n",
       "      <td>72.439480</td>\n",
       "    </tr>\n",
       "    <tr>\n",
       "      <th>min</th>\n",
       "      <td>17.000000</td>\n",
       "      <td>1.000000</td>\n",
       "      <td>0.000000</td>\n",
       "      <td>0.000000</td>\n",
       "      <td>-3.695294</td>\n",
       "      <td>88.311974</td>\n",
       "      <td>-52.220779</td>\n",
       "      <td>0.325461</td>\n",
       "      <td>4963.600000</td>\n",
       "    </tr>\n",
       "    <tr>\n",
       "      <th>25%</th>\n",
       "      <td>32.000000</td>\n",
       "      <td>1.000000</td>\n",
       "      <td>999.000000</td>\n",
       "      <td>0.000000</td>\n",
       "      <td>-1.724208</td>\n",
       "      <td>92.800661</td>\n",
       "      <td>-43.087110</td>\n",
       "      <td>1.377065</td>\n",
       "      <td>5101.000000</td>\n",
       "    </tr>\n",
       "    <tr>\n",
       "      <th>50%</th>\n",
       "      <td>38.000000</td>\n",
       "      <td>2.000000</td>\n",
       "      <td>999.000000</td>\n",
       "      <td>0.000000</td>\n",
       "      <td>1.085053</td>\n",
       "      <td>93.586959</td>\n",
       "      <td>-41.685507</td>\n",
       "      <td>4.800570</td>\n",
       "      <td>5194.000000</td>\n",
       "    </tr>\n",
       "    <tr>\n",
       "      <th>75%</th>\n",
       "      <td>47.000000</td>\n",
       "      <td>3.000000</td>\n",
       "      <td>999.000000</td>\n",
       "      <td>0.000000</td>\n",
       "      <td>1.366367</td>\n",
       "      <td>94.381404</td>\n",
       "      <td>-36.404580</td>\n",
       "      <td>4.943674</td>\n",
       "      <td>5226.000000</td>\n",
       "    </tr>\n",
       "    <tr>\n",
       "      <th>max</th>\n",
       "      <td>97.000000</td>\n",
       "      <td>56.000000</td>\n",
       "      <td>999.000000</td>\n",
       "      <td>7.000000</td>\n",
       "      <td>1.785673</td>\n",
       "      <td>98.263042</td>\n",
       "      <td>-25.323735</td>\n",
       "      <td>5.362403</td>\n",
       "      <td>5249.000000</td>\n",
       "    </tr>\n",
       "  </tbody>\n",
       "</table>\n",
       "</div>"
      ],
      "text/plain": [
       "                age      campaign     prev_days  prev_contacts  emp_var_rate  \\\n",
       "count  32950.000000  32950.000000  32950.000000   32950.000000  32950.000000   \n",
       "mean      40.019059      2.641639    961.537906       0.174385      0.080115   \n",
       "std       10.850807      2.803230    189.209917       0.498989      1.573180   \n",
       "min       17.000000      1.000000      0.000000       0.000000     -3.695294   \n",
       "25%       32.000000      1.000000    999.000000       0.000000     -1.724208   \n",
       "50%       38.000000      2.000000    999.000000       0.000000      1.085053   \n",
       "75%       47.000000      3.000000    999.000000       0.000000      1.366367   \n",
       "max       97.000000     56.000000    999.000000       7.000000      1.785673   \n",
       "\n",
       "       cons_price_idx  cons_conf_idx     euribor3m   nr_employed  \n",
       "count    32950.000000   32950.000000  32950.000000  32950.000000  \n",
       "mean        93.583705     -40.496740      3.618901   5166.932832  \n",
       "std          1.162662       4.645301      1.737149     72.439480  \n",
       "min         88.311974     -52.220779      0.325461   4963.600000  \n",
       "25%         92.800661     -43.087110      1.377065   5101.000000  \n",
       "50%         93.586959     -41.685507      4.800570   5194.000000  \n",
       "75%         94.381404     -36.404580      4.943674   5226.000000  \n",
       "max         98.263042     -25.323735      5.362403   5249.000000  "
      ]
     },
     "execution_count": 7,
     "metadata": {},
     "output_type": "execute_result"
    }
   ],
   "source": [
    "data.describe()"
   ]
  },
  {
   "cell_type": "markdown",
   "metadata": {
    "deletable": true,
    "editable": true
   },
   "source": [
    "Continouns Data Analysis\n",
    "\n",
    "As you can see the distribtuions of column prev_days and prev_contacts are not normal.\n",
    "\n",
    "--Most of prev_days are 999\n",
    "\n",
    "--Most of prev_contacts are 0"
   ]
  },
  {
   "cell_type": "code",
   "execution_count": 8,
   "metadata": {
    "collapsed": false,
    "deletable": true,
    "editable": true
   },
   "outputs": [
    {
     "data": {
      "image/png": "[encoded data removed]",
      "text/plain": [
       "<matplotlib.figure.Figure at 0x10b087a58>"
      ]
     },
     "metadata": {},
     "output_type": "display_data"
    }
   ],
   "source": [
    "# Three subplots sharing both x/y axes\n",
    "f,a = plt.subplots(1,2)\n",
    "a = a.ravel()\n",
    "a[0].hist(data['prev_days'])\n",
    "a[0].set_title('prev_days')\n",
    "a[1].hist(data['prev_contacts'])\n",
    "a[1].set_title('prev_contacts')\n",
    "\n",
    "plt.show()"
   ]
  },
  {
   "cell_type": "markdown",
   "metadata": {
    "deletable": true,
    "editable": true
   },
   "source": [
    "Check whether the distributions in subscribed users vs unsubscribed users\n",
    "\n",
    "As you can see below, there are the distributions are almost the same.\n",
    "\n",
    "They are still a lot of 0 in prevs_contacts and 999 in prevs_days in both groups."
   ]
  },
  {
   "cell_type": "code",
   "execution_count": 9,
   "metadata": {
    "collapsed": false,
    "deletable": true,
    "editable": true
   },
   "outputs": [
    {
     "data": {
      "image/png": "[encoded data removed]",
      "text/plain": [
       "<matplotlib.figure.Figure at 0x10abd6a20>"
      ]
     },
     "metadata": {},
     "output_type": "display_data"
    }
   ],
   "source": [
    "\n",
    "f,a = plt.subplots(2,2)\n",
    "a = a.ravel()\n",
    "a[0].hist(data[data['subscribed']=='no']['prev_days'])\n",
    "a[0].set_title('prev_days_no')\n",
    "a[1].hist(data[data['subscribed']=='no']['prev_contacts'])\n",
    "a[1].set_title('prev_contacts_no')\n",
    "a[2].hist(data[data['subscribed']=='yes']['prev_days'])\n",
    "a[2].set_title('prev_days_yes')\n",
    "a[3].hist(data[data['subscribed']=='yes']['prev_contacts'])\n",
    "a[3].set_title('prev_contacts_yes')\n",
    "plt.show()"
   ]
  },
  {
   "cell_type": "code",
   "execution_count": 10,
   "metadata": {
    "collapsed": false,
    "deletable": true,
    "editable": true
   },
   "outputs": [
    {
     "name": "stdout",
     "output_type": "stream",
     "text": [
      "prev_days 999 values 0.962276\n",
      "prev_contcts 0 values 0.862610\n"
     ]
    }
   ],
   "source": [
    "print(\"prev_days 999 values %f\" % (len(data[data['prev_days']==999])/float(data.shape[0])))\n",
    "print(\"prev_contcts 0 values %f\" % (len(data[data['prev_contacts']==0])/float(data.shape[0])))"
   ]
  },
  {
   "cell_type": "markdown",
   "metadata": {
    "deletable": true,
    "editable": true
   },
   "source": [
    "As you can see above, we decieded to drop prev_days since it is highly correlated to prev_contacts "
   ]
  },
  {
   "cell_type": "code",
   "execution_count": 64,
   "metadata": {
    "collapsed": true,
    "deletable": true,
    "editable": true
   },
   "outputs": [],
   "source": [
    "data=data.drop('prev_days', 1)"
   ]
  },
  {
   "cell_type": "code",
   "execution_count": 12,
   "metadata": {
    "collapsed": false,
    "deletable": true,
    "editable": true
   },
   "outputs": [
    {
     "data": {
      "text/plain": [
       "array([[<matplotlib.axes._subplots.AxesSubplot object at 0x10a6cbeb8>,\n",
       "        <matplotlib.axes._subplots.AxesSubplot object at 0x10ab133c8>,\n",
       "        <matplotlib.axes._subplots.AxesSubplot object at 0x10a8df7f0>],\n",
       "       [<matplotlib.axes._subplots.AxesSubplot object at 0x10a923048>,\n",
       "        <matplotlib.axes._subplots.AxesSubplot object at 0x10a971358>,\n",
       "        <matplotlib.axes._subplots.AxesSubplot object at 0x10a9afe80>],\n",
       "       [<matplotlib.axes._subplots.AxesSubplot object at 0x10a9fcdd8>,\n",
       "        <matplotlib.axes._subplots.AxesSubplot object at 0x10ca93860>,\n",
       "        <matplotlib.axes._subplots.AxesSubplot object at 0x10caddc88>]], dtype=object)"
      ]
     },
     "execution_count": 12,
     "metadata": {},
     "output_type": "execute_result"
    },
    {
     "data": {
      "image/png": "[encoded data removed]",
      "text/plain": [
       "<matplotlib.figure.Figure at 0x10a6c07f0>"
      ]
     },
     "metadata": {},
     "output_type": "display_data"
    }
   ],
   "source": [
    "data.hist(bins = 30)"
   ]
  },
  {
   "cell_type": "code",
   "execution_count": 13,
   "metadata": {
    "collapsed": false,
    "deletable": true,
    "editable": true
   },
   "outputs": [
    {
     "data": {
      "text/plain": [
       "0.88734446130500755"
      ]
     },
     "execution_count": 13,
     "metadata": {},
     "output_type": "execute_result"
    }
   ],
   "source": [
    "sum(data[data.columns[-1]] == 'no')/data.shape[0]\n",
    "# because the 'no' is much more than 'yes' in y_train, so we need to resampling the imbalanced data later\n",
    "# data is imbalanced"
   ]
  },
  {
   "cell_type": "markdown",
   "metadata": {
    "deletable": true,
    "editable": true
   },
   "source": [
    "Categorical Data Analysis\n",
    "\n",
    "As you can see below, there are many unknown values. We regard them as a type of instead of missing value"
   ]
  },
  {
   "cell_type": "code",
   "execution_count": 14,
   "metadata": {
    "collapsed": false,
    "deletable": true,
    "editable": true
   },
   "outputs": [
    {
     "data": {
      "text/plain": [
       "contact           [cellular, telephone]                                                                                                                 \n",
       "credit_default    [no, unknown, yes]                                                                                                                    \n",
       "day_of_week       [mon, wed, fri, thu, tue]                                                                                                             \n",
       "education         [basic.9y, unknown, basic.4y, university.degree, basic.6y, high.school, professional.course, illiterate]                              \n",
       "housing           [yes, no, unknown]                                                                                                                    \n",
       "job               [blue-collar, entrepreneur, unemployed, retired, technician, services, management, admin., self-employed, unknown, housemaid, student]\n",
       "loan              [no, yes, unknown]                                                                                                                    \n",
       "marital_status    [married, divorced, single, unknown]                                                                                                  \n",
       "month             [apr, may, nov, jul, jun, aug, oct, sep, mar, dec]                                                                                    \n",
       "prev_outcomes     [nonexistent, failure, success]                                                                                                       \n",
       "subscribed        [no, yes]                                                                                                                             \n",
       "dtype: object"
      ]
     },
     "execution_count": 14,
     "metadata": {},
     "output_type": "execute_result"
    }
   ],
   "source": [
    "category={}\n",
    "for i in ['job','marital_status','education','credit_default','housing','loan','contact','month','day_of_week','prev_outcomes','subscribed']:\n",
    "    category[i]=data[i].unique()\n",
    "\n",
    "pd.set_option('display.max_colwidth', -1)\n",
    "pd.Series(category)"
   ]
  },
  {
   "cell_type": "markdown",
   "metadata": {
    "deletable": true,
    "editable": true
   },
   "source": [
    "Target Value Analysis\n",
    "\n",
    "As you can see below, only 11% of users  subscribed during this campagins, so this is imbalanced data. We should resample \n",
    "the data to do the prediction."
   ]
  },
  {
   "cell_type": "code",
   "execution_count": 15,
   "metadata": {
    "collapsed": false,
    "deletable": true,
    "editable": true
   },
   "outputs": [
    {
     "data": {
      "image/png": "[encoded data removed]",
      "text/plain": [
       "<matplotlib.figure.Figure at 0x10d35a860>"
      ]
     },
     "metadata": {},
     "output_type": "display_data"
    },
    {
     "name": "stdout",
     "output_type": "stream",
     "text": [
      "Conversion Rate is 0.11\n"
     ]
    }
   ],
   "source": [
    "from collections import Counter\n",
    "result=data['subscribed']\n",
    "labels, values = zip(*Counter(result).items())\n",
    "indexes = np.arange(len(labels))\n",
    "width = 1\n",
    "\n",
    "plt.bar(indexes, values, width)\n",
    "plt.xticks(indexes + width * 0.5, labels)\n",
    "plt.show()\n",
    "print(\"Conversion Rate is\", round(sum(result==\"yes\")/float(len(result)),2))"
   ]
  },
  {
   "cell_type": "code",
   "execution_count": 65,
   "metadata": {
    "collapsed": false,
    "deletable": true,
    "editable": true
   },
   "outputs": [],
   "source": [
    "# ordered-categorical and change into continuous\n",
    "# data.replace({\"education\":{\"illiterate\": 1, \"basic.4y\": 2, \"basic.6y\" :3, \"basic.9y\": 4, \"high.school\":5, \"professional.course\": 6, \"university.degree\":7, \"unknown\": 0}},inplace=True)\n",
    "# holdout.replace({\"education\":{\"illiterate\": 1, \"basic.4y\": 2, \"basic.6y\" :3, \"basic.9y\": 4, \"high.school\":5, \"professional.course\": 6, \"university.degree\":7, \"unknown\": 0}},inplace=True)\n",
    "\n",
    "######## we found that the preprocess above won't improve our performance, so we chose not to implement it ######\n",
    "\n",
    "# variable extraction and assignment\n",
    "y = data.subscribed.replace({\"yes\":1, \"no\": 0})\n",
    "data = data.drop(\"subscribed\", axis=1)\n",
    "\n",
    "ID = holdout['ID']\n",
    "holdout = holdout.drop('ID', axis = 1)\n",
    "\n",
    "# continuous data column extraction\n",
    "data_continuous = data[data.columns[data.dtypes != \"object\"]]\n",
    "\n",
    "# categorical data column extraction\n",
    "data_categorical = data[data.columns[data.dtypes == \"object\"]]\n",
    "\n",
    "# get dummy\n",
    "X = pd.get_dummies(data, columns = data_categorical.columns)\n",
    "\n",
    "holdout.credit_default = holdout.credit_default.astype('category',categories=list(['yes','no','unkown']))\n",
    "hold_out = pd.get_dummies(holdout, columns = data_categorical.columns)\n",
    "\n",
    "######### now data is ready for further feature engineering or fitting ############\n",
    "# X_train: X\n",
    "# y_train : y\n",
    "# X_test: hold_out"
   ]
  },
  {
   "cell_type": "code",
   "execution_count": 17,
   "metadata": {
    "collapsed": false,
    "deletable": true,
    "editable": true
   },
   "outputs": [
    {
     "data": {
      "text/html": [
       "<div>\n",
       "<table border=\"1\" class=\"dataframe\">\n",
       "  <thead>\n",
       "    <tr style=\"text-align: right;\">\n",
       "      <th></th>\n",
       "      <th>age</th>\n",
       "      <th>campaign</th>\n",
       "      <th>prev_days</th>\n",
       "      <th>prev_contacts</th>\n",
       "      <th>emp_var_rate</th>\n",
       "      <th>cons_price_idx</th>\n",
       "      <th>cons_conf_idx</th>\n",
       "      <th>euribor3m</th>\n",
       "      <th>nr_employed</th>\n",
       "      <th>job_admin.</th>\n",
       "      <th>...</th>\n",
       "      <th>month_oct</th>\n",
       "      <th>month_sep</th>\n",
       "      <th>day_of_week_fri</th>\n",
       "      <th>day_of_week_mon</th>\n",
       "      <th>day_of_week_thu</th>\n",
       "      <th>day_of_week_tue</th>\n",
       "      <th>day_of_week_wed</th>\n",
       "      <th>prev_outcomes_failure</th>\n",
       "      <th>prev_outcomes_nonexistent</th>\n",
       "      <th>prev_outcomes_success</th>\n",
       "    </tr>\n",
       "  </thead>\n",
       "  <tbody>\n",
       "    <tr>\n",
       "      <th>0</th>\n",
       "      <td>47.0</td>\n",
       "      <td>2.0</td>\n",
       "      <td>999</td>\n",
       "      <td>0</td>\n",
       "      <td>1.247123</td>\n",
       "      <td>92.972198</td>\n",
       "      <td>-35.612530</td>\n",
       "      <td>4.932103</td>\n",
       "      <td>5190.0</td>\n",
       "      <td>1</td>\n",
       "      <td>...</td>\n",
       "      <td>0</td>\n",
       "      <td>0</td>\n",
       "      <td>0</td>\n",
       "      <td>0</td>\n",
       "      <td>0</td>\n",
       "      <td>1</td>\n",
       "      <td>0</td>\n",
       "      <td>0</td>\n",
       "      <td>1</td>\n",
       "      <td>0</td>\n",
       "    </tr>\n",
       "    <tr>\n",
       "      <th>1</th>\n",
       "      <td>40.0</td>\n",
       "      <td>5.0</td>\n",
       "      <td>999</td>\n",
       "      <td>0</td>\n",
       "      <td>1.336096</td>\n",
       "      <td>95.085866</td>\n",
       "      <td>-40.841331</td>\n",
       "      <td>5.082825</td>\n",
       "      <td>5225.0</td>\n",
       "      <td>0</td>\n",
       "      <td>...</td>\n",
       "      <td>0</td>\n",
       "      <td>0</td>\n",
       "      <td>0</td>\n",
       "      <td>1</td>\n",
       "      <td>0</td>\n",
       "      <td>0</td>\n",
       "      <td>0</td>\n",
       "      <td>0</td>\n",
       "      <td>1</td>\n",
       "      <td>0</td>\n",
       "    </tr>\n",
       "    <tr>\n",
       "      <th>2</th>\n",
       "      <td>42.0</td>\n",
       "      <td>3.0</td>\n",
       "      <td>999</td>\n",
       "      <td>0</td>\n",
       "      <td>1.388607</td>\n",
       "      <td>93.705043</td>\n",
       "      <td>-42.039772</td>\n",
       "      <td>4.941916</td>\n",
       "      <td>5232.0</td>\n",
       "      <td>0</td>\n",
       "      <td>...</td>\n",
       "      <td>0</td>\n",
       "      <td>0</td>\n",
       "      <td>0</td>\n",
       "      <td>0</td>\n",
       "      <td>1</td>\n",
       "      <td>0</td>\n",
       "      <td>0</td>\n",
       "      <td>0</td>\n",
       "      <td>1</td>\n",
       "      <td>0</td>\n",
       "    </tr>\n",
       "    <tr>\n",
       "      <th>3</th>\n",
       "      <td>53.0</td>\n",
       "      <td>1.0</td>\n",
       "      <td>999</td>\n",
       "      <td>0</td>\n",
       "      <td>1.146340</td>\n",
       "      <td>92.826786</td>\n",
       "      <td>-36.824117</td>\n",
       "      <td>4.916084</td>\n",
       "      <td>5205.0</td>\n",
       "      <td>0</td>\n",
       "      <td>...</td>\n",
       "      <td>0</td>\n",
       "      <td>0</td>\n",
       "      <td>1</td>\n",
       "      <td>0</td>\n",
       "      <td>0</td>\n",
       "      <td>0</td>\n",
       "      <td>0</td>\n",
       "      <td>0</td>\n",
       "      <td>1</td>\n",
       "      <td>0</td>\n",
       "    </tr>\n",
       "    <tr>\n",
       "      <th>4</th>\n",
       "      <td>54.0</td>\n",
       "      <td>6.0</td>\n",
       "      <td>999</td>\n",
       "      <td>0</td>\n",
       "      <td>1.490160</td>\n",
       "      <td>94.392184</td>\n",
       "      <td>-36.710934</td>\n",
       "      <td>4.999765</td>\n",
       "      <td>5226.0</td>\n",
       "      <td>0</td>\n",
       "      <td>...</td>\n",
       "      <td>0</td>\n",
       "      <td>0</td>\n",
       "      <td>1</td>\n",
       "      <td>0</td>\n",
       "      <td>0</td>\n",
       "      <td>0</td>\n",
       "      <td>0</td>\n",
       "      <td>0</td>\n",
       "      <td>1</td>\n",
       "      <td>0</td>\n",
       "    </tr>\n",
       "  </tbody>\n",
       "</table>\n",
       "<p>5 rows × 62 columns</p>\n",
       "</div>"
      ],
      "text/plain": [
       "    age  campaign  prev_days  prev_contacts  emp_var_rate  cons_price_idx  \\\n",
       "0  47.0  2.0       999        0              1.247123      92.972198        \n",
       "1  40.0  5.0       999        0              1.336096      95.085866        \n",
       "2  42.0  3.0       999        0              1.388607      93.705043        \n",
       "3  53.0  1.0       999        0              1.146340      92.826786        \n",
       "4  54.0  6.0       999        0              1.490160      94.392184        \n",
       "\n",
       "   cons_conf_idx  euribor3m  nr_employed  job_admin.          ...            \\\n",
       "0 -35.612530      4.932103   5190.0       1                   ...             \n",
       "1 -40.841331      5.082825   5225.0       0                   ...             \n",
       "2 -42.039772      4.941916   5232.0       0                   ...             \n",
       "3 -36.824117      4.916084   5205.0       0                   ...             \n",
       "4 -36.710934      4.999765   5226.0       0                   ...             \n",
       "\n",
       "   month_oct  month_sep  day_of_week_fri  day_of_week_mon  day_of_week_thu  \\\n",
       "0  0          0          0                0                0                 \n",
       "1  0          0          0                1                0                 \n",
       "2  0          0          0                0                1                 \n",
       "3  0          0          1                0                0                 \n",
       "4  0          0          1                0                0                 \n",
       "\n",
       "   day_of_week_tue  day_of_week_wed  prev_outcomes_failure  \\\n",
       "0  1                0                0                       \n",
       "1  0                0                0                       \n",
       "2  0                0                0                       \n",
       "3  0                0                0                       \n",
       "4  0                0                0                       \n",
       "\n",
       "   prev_outcomes_nonexistent  prev_outcomes_success  \n",
       "0  1                          0                      \n",
       "1  1                          0                      \n",
       "2  1                          0                      \n",
       "3  1                          0                      \n",
       "4  1                          0                      \n",
       "\n",
       "[5 rows x 62 columns]"
      ]
     },
     "execution_count": 17,
     "metadata": {},
     "output_type": "execute_result"
    }
   ],
   "source": [
    "hold_out.head()"
   ]
  },
  {
   "cell_type": "markdown",
   "metadata": {
    "deletable": true,
    "editable": true
   },
   "source": [
    "# Step2 - ModelSet1 [35 points]\n",
    "\n",
    "In this step, we expect you to perform the following steps relevant to the models you choose for set1:\n",
    "\n",
    "* feature engineering\n",
    "* validation\n",
    "* feature selection\n",
    "* final model selection\n",
    "\n",
    "You may select up to 5 models in this step for the purpose of final ensemble. Any classification algorithm covered in class apart from tree-based models can be tested here."
   ]
  },
  {
   "cell_type": "markdown",
   "metadata": {
    "deletable": true,
    "editable": true
   },
   "source": [
    "### Basic Preprocessing Benchmark"
   ]
  },
  {
   "cell_type": "code",
   "execution_count": 18,
   "metadata": {
    "collapsed": false,
    "deletable": true,
    "editable": true
   },
   "outputs": [
    {
     "name": "stdout",
     "output_type": "stream",
     "text": [
      "0.791129468537\n"
     ]
    }
   ],
   "source": [
    "from sklearn.preprocessing import scale, StandardScaler\n",
    "from sklearn.linear_model import LogisticRegression\n",
    "from sklearn.pipeline import make_pipeline\n",
    "\n",
    "\n",
    "###### define a class to predict probability in cross_val_score proecess ###########\n",
    "class proba_logreg(LogisticRegression):\n",
    "    def predict(self, X):\n",
    "        return LogisticRegression.predict_proba(self, X)\n",
    "\n",
    "########## test the basic preprocess performance ##################\n",
    "pipe = make_pipeline(StandardScaler(), proba_logreg())\n",
    "scores = cross_val_score(pipe, X, y, cv=10, scoring='roc_auc')\n",
    "print(np.mean(scores))"
   ]
  },
  {
   "cell_type": "markdown",
   "metadata": {
    "deletable": true,
    "editable": true
   },
   "source": [
    "\n",
    "### Feature Selection\n",
    "\n",
    "#### a. feature importance"
   ]
  },
  {
   "cell_type": "code",
   "execution_count": 19,
   "metadata": {
    "collapsed": false,
    "deletable": true,
    "editable": true
   },
   "outputs": [
    {
     "name": "stdout",
     "output_type": "stream",
     "text": [
      "Feature ranking:\n",
      "1. feature age (-0.487010)\n",
      "2. feature campaign (-0.365016)\n",
      "3. feature prev_contacts (-0.277347)\n",
      "4. feature emp_var_rate (-0.178021)\n",
      "5. feature cons_price_idx (-0.142353)\n",
      "6. feature cons_conf_idx (-0.131594)\n",
      "7. feature euribor3m (-0.127261)\n",
      "8. feature nr_employed (-0.117966)\n",
      "9. feature job_admin. (-0.077187)\n",
      "10. feature job_blue-collar (-0.074225)\n",
      "11. feature job_entrepreneur (-0.050175)\n",
      "12. feature job_housemaid (-0.036945)\n",
      "13. feature job_management (-0.032597)\n",
      "14. feature job_retired (-0.032501)\n",
      "15. feature job_self-employed (-0.032123)\n",
      "16. feature job_services (-0.027589)\n",
      "17. feature job_student (-0.023201)\n",
      "18. feature job_technician (-0.013543)\n",
      "19. feature job_unemployed (-0.011435)\n",
      "20. feature job_unknown (-0.011261)\n",
      "21. feature marital_status_divorced (-0.010328)\n",
      "22. feature marital_status_married (-0.009861)\n",
      "23. feature marital_status_single (-0.009805)\n",
      "24. feature marital_status_unknown (-0.004284)\n",
      "25. feature education_basic.4y (-0.003675)\n",
      "26. feature education_basic.6y (-0.002896)\n",
      "27. feature education_basic.9y (-0.002109)\n",
      "28. feature education_high.school (-0.002109)\n",
      "29. feature education_illiterate (-0.000509)\n",
      "30. feature education_professional.course (-0.000271)\n",
      "31. feature education_university.degree (0.000089)\n",
      "32. feature education_unknown (0.002631)\n",
      "33. feature credit_default_no (0.003292)\n",
      "34. feature credit_default_unknown (0.003423)\n",
      "35. feature credit_default_yes (0.006958)\n",
      "36. feature housing_no (0.008404)\n",
      "37. feature housing_unknown (0.009287)\n",
      "38. feature housing_yes (0.016393)\n",
      "39. feature loan_no (0.019181)\n",
      "40. feature loan_unknown (0.026465)\n",
      "41. feature loan_yes (0.027929)\n",
      "42. feature contact_cellular (0.027989)\n",
      "43. feature contact_telephone (0.033277)\n",
      "44. feature month_apr (0.033487)\n",
      "45. feature month_aug (0.039619)\n",
      "46. feature month_dec (0.042572)\n",
      "47. feature month_jul (0.046895)\n",
      "48. feature month_jun (0.050667)\n",
      "49. feature month_mar (0.067443)\n",
      "50. feature month_may (0.075777)\n",
      "51. feature month_nov (0.082139)\n",
      "52. feature month_oct (0.085515)\n",
      "53. feature month_sep (0.090159)\n",
      "54. feature day_of_week_fri (0.092152)\n",
      "55. feature day_of_week_mon (0.125504)\n",
      "56. feature day_of_week_thu (0.151760)\n",
      "57. feature day_of_week_tue (0.155876)\n",
      "58. feature day_of_week_wed (0.185288)\n",
      "59. feature prev_outcomes_failure (0.196112)\n",
      "60. feature prev_outcomes_nonexistent (0.219489)\n",
      "61. feature prev_outcomes_success (0.404406)\n"
     ]
    }
   ],
   "source": [
    "######### rank the feature by importance #######\n",
    "lr_whole = LogisticRegression().fit(X, y)\n",
    "\n",
    "importances = lr_whole.coef_\n",
    "indices = np.argsort(importances)[::-1]\n",
    "\n",
    "# Print the feature ranking\n",
    "print(\"Feature ranking:\")\n",
    "\n",
    "for f in range(X.shape[1]):\n",
    "    print(\"%d. feature %s (%f)\" % (f + 1, X.columns.values[f], importances[0][indices[0][f]]))\n",
    "     #print(f + 1, indices[f], importances[indices[f]],X_train_subsample1[f])\n"
   ]
  },
  {
   "cell_type": "markdown",
   "metadata": {
    "collapsed": false,
    "deletable": true,
    "editable": true
   },
   "source": [
    "Here we see that the `prev_days` feature is very important. However there are lots of `999` in the data, which dosen't normally make sense. Also its meaning is rather close to the other variables (e.g. `prev_contatcs`). So we should take a closer look at their correlations."
   ]
  },
  {
   "cell_type": "markdown",
   "metadata": {
    "deletable": true,
    "editable": true
   },
   "source": [
    "#### b. f_regression"
   ]
  },
  {
   "cell_type": "code",
   "execution_count": 22,
   "metadata": {
    "collapsed": false,
    "deletable": true,
    "editable": true
   },
   "outputs": [
    {
     "data": {
      "image/png": "[encoded data removed]",
      "text/plain": [
       "<matplotlib.figure.Figure at 0x10e36de80>"
      ]
     },
     "metadata": {},
     "output_type": "display_data"
    }
   ],
   "source": [
    "from sklearn.feature_selection import f_regression\n",
    "F, p = f_regression(X, y)\n",
    "\n",
    "top_n =X.shape[1]\n",
    "inds = np.argsort(F)\n",
    "plt.figure(figsize=(10, 20))\n",
    "plt.barh(np.arange(top_n), F[inds[-top_n:]])\n",
    "plt.yticks(np.arange(top_n), X.columns[inds[-top_n:]])\n",
    "plt.ylim(0, top_n)\n",
    "plt.show()"
   ]
  },
  {
   "cell_type": "markdown",
   "metadata": {
    "deletable": true,
    "editable": true
   },
   "source": [
    "Here we can see lots of variables have score of 0 on `f_regression`, which means they have no linear correlation with the y. From the graph we can tell that we only need to pick the first 50%."
   ]
  },
  {
   "cell_type": "markdown",
   "metadata": {
    "deletable": true,
    "editable": true
   },
   "source": [
    "### Feature Engineering\n",
    "\n",
    "With basic preprossing (scale and resample), here we get our cv score 0.791398763195 as benchmark for logistic regression. \n",
    "\n",
    "#### a. Polynomial Features\n",
    "\n",
    "With the f_regression result, we want to apply Polynomial feature on the linear models"
   ]
  },
  {
   "cell_type": "code",
   "execution_count": 24,
   "metadata": {
    "collapsed": false,
    "deletable": true,
    "editable": true
   },
   "outputs": [],
   "source": [
    "from sklearn.preprocessing import PolynomialFeatures\n",
    "from sklearn.feature_selection import SelectPercentile\n",
    "\n",
    "# feature_pipe = make_pipeline(SelectPercentile(score_func = f_regression, percentile=50),\n",
    "#                              PolynomialFeatures(interaction_only=True), StandardScaler(),\n",
    "#                              proba_logreg())\n",
    "# score = cross_val_score(feature_pipe, X, y, cv = 10, scoring= 'roc_auc')\n",
    "# print(np.mean(score))"
   ]
  },
  {
   "cell_type": "markdown",
   "metadata": {
    "deletable": true,
    "editable": true
   },
   "source": [
    "Here the cv score is 0.7920, which is higher than our benchmark 0.7911. So the feature selection (f_regression) as well as the feature engineering (Polynomial Feature) is effective. We would apply them in our final model."
   ]
  },
  {
   "cell_type": "markdown",
   "metadata": {
    "deletable": true,
    "editable": true
   },
   "source": [
    "#### b. Box-Cox\n",
    "Since we saw the data distribution before that they are not normal distributed, for linear models, we want to boxcox the continuous data and test the model again."
   ]
  },
  {
   "cell_type": "code",
   "execution_count": 27,
   "metadata": {
    "collapsed": false,
    "deletable": true,
    "editable": true
   },
   "outputs": [],
   "source": [
    "############# min-max-scaler + boxcox on continuous data + standard scaler #################\n",
    "def minmaxboxcox(X_train, X_test, y_train):\n",
    "    \n",
    "    # extract the continuous data first\n",
    "    # minmax scaler to get positive data first\n",
    "    \n",
    "    fig, axes = plt.subplots(2,4,figsize = (20, 10))\n",
    "    train_continuous = X_train[data_continuous.columns]\n",
    "    test_continuous = X_test[data_continuous.columns]\n",
    "    minmaxscaler = MinMaxScaler().fit(train_continuous)\n",
    "    train_mm = minmaxscaler.transform(train_continuous)\n",
    "    test_mm = minmaxscaler.transform(test_continuous)\n",
    "    X_bc_train = []\n",
    "    X_bc_test = []\n",
    "    \n",
    "    # boxcox and plot \n",
    "    for i, ax in enumerate(axes.ravel()):\n",
    "        if i > 8:\n",
    "            ax.set_visible(False)\n",
    "        x_train, lambda_x_train = stats.boxcox(train_mm[: ,i] + 1e-5)\n",
    "        X_bc_train.append(x_train)\n",
    "        ax.hist(x_train, bins = 'auto')\n",
    "        ax.set_title(\"{}:{}{:.2f}\".format(i, train_continuous.columns[i], lambda_x_train))\n",
    "\n",
    "        x_test, lambda_x_test = stats.boxcox(test_mm[: ,i] + 1e-5)\n",
    "        X_bc_test.append(x_test)\n",
    "        ax.hist(x_test, bins = 'auto')\n",
    "        ax.set_title(\"{}:{}{:.2f}\".format(i, test_continuous.columns[i], lambda_x_test))\n",
    "    \n",
    "    X_bc_train = np.array(X_bc_train).T\n",
    "    X_bc_test = np.array(X_bc_test).T\n",
    "\n",
    "    # standard scaler the data\n",
    "    standardscaler = StandardScaler().fit(X_bc_train)\n",
    "    X_bc_train_scaled = standardscaler.transform(X_bc_train)\n",
    "    X_bc_test_scaled = standardscaler.transform(X_bc_test)\n",
    "    \n",
    "    \n",
    "    fig, axes = plt.subplots(2,4, figsize=(20,10))\n",
    "    for i, ax in enumerate(axes.ravel()):\n",
    "        if i > 9:\n",
    "            ax.set_visible(False)\n",
    "            continue\n",
    "        ax.plot(X_bc_train_scaled[:,i], y_train, 'o', alpha = 0.5)\n",
    "        ax.set_title('{}:{}'.format(i, train_continuous.columns[i]))\n",
    "        \n",
    "    \n",
    "\n",
    "    return X_bc_train_scaled, X_bc_test_scaled\n"
   ]
  },
  {
   "cell_type": "code",
   "execution_count": 28,
   "metadata": {
    "collapsed": false,
    "deletable": true,
    "editable": true
   },
   "outputs": [
    {
     "data": {
      "image/png": "[encoded data removed]",
      "text/plain": [
       "<matplotlib.figure.Figure at 0x112139588>"
      ]
     },
     "metadata": {},
     "output_type": "display_data"
    },
    {
     "data": {
      "image/png": "[encoded data removed]",
      "text/plain": [
       "<matplotlib.figure.Figure at 0x11268bda0>"
      ]
     },
     "metadata": {},
     "output_type": "display_data"
    }
   ],
   "source": [
    "X_bc_train_scaled, X_bc_test_scaled = minmaxboxcox(X, hold_out, y)"
   ]
  },
  {
   "cell_type": "markdown",
   "metadata": {
    "collapsed": true,
    "deletable": true,
    "editable": true
   },
   "source": [
    "Above we can see the training data (blue) and the testing data (orange) distribution after the boxcox. Also we can plot the training X against training y. They are now more suitable for the linear models."
   ]
  },
  {
   "cell_type": "code",
   "execution_count": 29,
   "metadata": {
    "collapsed": false,
    "deletable": true,
    "editable": true
   },
   "outputs": [],
   "source": [
    "# ########## combine box-coxed continuous data and categorical data again ##########\n",
    "\n",
    "# # X[data_continuous.columns] = X_bc_train_scaled\n",
    "# hold_out[data_continuous.columns] = X_bc_test_scaled"
   ]
  },
  {
   "cell_type": "code",
   "execution_count": 30,
   "metadata": {
    "collapsed": false,
    "deletable": true,
    "editable": true
   },
   "outputs": [],
   "source": [
    "# ############ test the boxcox performance ##############\n",
    "# scores = cross_val_score(proba_logreg(), X, y, cv=10, scoring='roc_auc')\n",
    "# print(np.mean(scores))"
   ]
  },
  {
   "cell_type": "markdown",
   "metadata": {
    "deletable": true,
    "editable": true
   },
   "source": [
    "We found that the score 0.790879425564 is lower than the initial score, so the boxcox is not suitable for this dataset. We decide not to use this feature engineering technique."
   ]
  },
  {
   "cell_type": "markdown",
   "metadata": {
    "deletable": true,
    "editable": true
   },
   "source": [
    "### Resampling Techique Evaluation and Comparison\n",
    "\n",
    "Here we implemented the UnderSampling and OverSampling techniques, we visualize their effects."
   ]
  },
  {
   "cell_type": "code",
   "execution_count": 31,
   "metadata": {
    "collapsed": false,
    "deletable": true,
    "editable": true
   },
   "outputs": [
    {
     "name": "stdout",
     "output_type": "stream",
     "text": [
      "(32950, 61)\n",
      "(7424, 61)\n",
      "[3712 3712]\n"
     ]
    }
   ],
   "source": [
    "########## resampling the data ###############\n",
    "## under sampler\n",
    "from imblearn.pipeline import make_pipeline as make_imb_pipeline\n",
    "from imblearn.under_sampling import RandomUnderSampler\n",
    "\n",
    "rus = RandomUnderSampler(replacement=False)\n",
    "X_subsample, y_subsample = rus.fit_sample(X, y)\n",
    "print(X.shape)\n",
    "print(X_subsample.shape)\n",
    "print(np.bincount(y_subsample))"
   ]
  },
  {
   "cell_type": "code",
   "execution_count": 32,
   "metadata": {
    "collapsed": false,
    "deletable": true,
    "editable": true
   },
   "outputs": [
    {
     "name": "stdout",
     "output_type": "stream",
     "text": [
      "(32950, 61)\n",
      "(58476, 61)\n",
      "[29238 29238]\n"
     ]
    }
   ],
   "source": [
    "## over sampler\n",
    "from imblearn.over_sampling import RandomOverSampler\n",
    "ros = RandomOverSampler()\n",
    "X_oversample, y_oversample = ros.fit_sample(X, y)\n",
    "print(X.shape)\n",
    "print(X_oversample.shape)\n",
    "print(np.bincount(y_oversample))"
   ]
  },
  {
   "cell_type": "code",
   "execution_count": 33,
   "metadata": {
    "collapsed": false,
    "deletable": true,
    "editable": true
   },
   "outputs": [
    {
     "name": "stdout",
     "output_type": "stream",
     "text": [
      "0.792226042651\n"
     ]
    }
   ],
   "source": [
    "oversample_pipe = make_imb_pipeline(StandardScaler(), RandomOverSampler(), proba_logreg())\n",
    "scores = cross_val_score(oversample_pipe, X, y, cv=10, scoring='roc_auc')\n",
    "print(np.mean(scores))"
   ]
  },
  {
   "cell_type": "code",
   "execution_count": 34,
   "metadata": {
    "collapsed": false,
    "deletable": true,
    "editable": true
   },
   "outputs": [
    {
     "name": "stdout",
     "output_type": "stream",
     "text": [
      "0.792581217506\n"
     ]
    }
   ],
   "source": [
    "undersample_pipe = make_imb_pipeline(StandardScaler(), RandomUnderSampler(), proba_logreg())\n",
    "scores = cross_val_score(undersample_pipe, X, y, cv=10, scoring='roc_auc')\n",
    "print(np.mean(scores))"
   ]
  },
  {
   "cell_type": "markdown",
   "metadata": {
    "deletable": true,
    "editable": true
   },
   "source": [
    "Here we found that **RandomOverSampler** would perform better than the **RandomUnderSampler**, but they are both not stable."
   ]
  },
  {
   "cell_type": "code",
   "execution_count": 35,
   "metadata": {
    "collapsed": false,
    "deletable": true,
    "editable": true
   },
   "outputs": [
    {
     "data": {
      "text/plain": [
       "<matplotlib.text.Text at 0x113473e80>"
      ]
     },
     "execution_count": 35,
     "metadata": {},
     "output_type": "execute_result"
    },
    {
     "data": {
      "image/png": "[encoded data removed]",
      "text/plain": [
       "<matplotlib.figure.Figure at 0x10f288c18>"
      ]
     },
     "metadata": {},
     "output_type": "display_data"
    }
   ],
   "source": [
    "############ visualization the sampler effect #############\n",
    "# train test split\n",
    "from sklearn.model_selection import train_test_split\n",
    "X_train, X_test, y_train, y_test = train_test_split(X, y)\n",
    "\n",
    "# standard scaler the data\n",
    "standardscaler = StandardScaler().fit(X_train)\n",
    "X_train_scaled = standardscaler.transform(X_train)\n",
    "X_test_scaled = standardscaler.transform(X_test)\n",
    "\n",
    "\n",
    "from sklearn.metrics import roc_curve\n",
    "oversample_pipe.fit(X_train_scaled, y_train)\n",
    "props_oversample = oversample_pipe.predict_proba(X_test_scaled)[:, 1]\n",
    "fpr_over, tpr_over, _ = roc_curve(y_test, props_oversample)\n",
    "\n",
    "undersample_pipe.fit(X_train_scaled, y_train)\n",
    "props_undersample = undersample_pipe.predict_proba(X_test_scaled)[:, 1]\n",
    "fpr_under, tpr_under, _ = roc_curve(y_test, props_undersample)\n",
    "\n",
    "lr = LogisticRegression().fit(X_train_scaled, y_train)\n",
    "props_original = lr.predict_proba(X_test_scaled)[:, 1]\n",
    "fpr_org, tpr_org, _ = roc_curve(y_test, props_original)\n",
    "\n",
    "plt.plot(fpr_org, tpr_org, label=\"original\")\n",
    "plt.plot(fpr_over, tpr_over, label=\"oversample\")\n",
    "plt.plot(fpr_under, tpr_under, label=\"undersample\")\n",
    "plt.legend()\n",
    "plt.xlabel(\"FPR\")\n",
    "plt.ylabel(\"TPR\")\n",
    "plt.title(\"LR comparison\")"
   ]
  },
  {
   "cell_type": "markdown",
   "metadata": {
    "deletable": true,
    "editable": true
   },
   "source": [
    "From this graph what we can know is that both of these two sampler don't have much effect on the data."
   ]
  },
  {
   "cell_type": "markdown",
   "metadata": {
    "deletable": true,
    "editable": true
   },
   "source": [
    "### Model Selection\n",
    "\n",
    "#### a. Logistic Regression"
   ]
  },
  {
   "cell_type": "code",
   "execution_count": 36,
   "metadata": {
    "collapsed": false,
    "deletable": true,
    "editable": true
   },
   "outputs": [],
   "source": [
    "# ########### parameter tuning ##########\n",
    "\n",
    "from sklearn.model_selection import GridSearchCV\n",
    "# param_grid = {'C': [0.001, 0.1, 1, 10, 100, 400, 500, 1000] }\n",
    "# grid = GridSearchCV(LogisticRegression(), param_grid=param_grid, cv=10)\n",
    "# grid.fit(X, y)\n",
    "# print(\"best mean cross-validation score: {:.3f}\".format(grid.best_score_))\n",
    "# print(\"best parameters: {}\".format(grid.best_params_))\n",
    "\n",
    "# #print(\"test-set score: {:.3f}\".format(grid.score(X_test, y_test)))"
   ]
  },
  {
   "cell_type": "markdown",
   "metadata": {
    "deletable": true,
    "editable": true
   },
   "source": [
    "The best mean cross-validation score is 0.899, and the best parameters is 400."
   ]
  },
  {
   "cell_type": "code",
   "execution_count": 37,
   "metadata": {
    "collapsed": false,
    "deletable": true,
    "editable": true
   },
   "outputs": [
    {
     "name": "stdout",
     "output_type": "stream",
     "text": [
      "0.792945267342\n"
     ]
    }
   ],
   "source": [
    "# Apply the best parameters with previous selected techniques\n",
    "\n",
    "logreg_pipe = make_imb_pipeline(SelectPercentile(score_func = f_regression, percentile=50),\n",
    "                                    PolynomialFeatures(interaction_only=True),\n",
    "                                        StandardScaler(), RandomOverSampler(), proba_logreg(C=400))\n",
    "scores = cross_val_score(oversample_pipe, X, y, cv=10, scoring='roc_auc')\n",
    "print(np.mean(scores))"
   ]
  },
  {
   "cell_type": "code",
   "execution_count": null,
   "metadata": {
    "collapsed": false,
    "deletable": true,
    "editable": true
   },
   "outputs": [],
   "source": [
    "# logreg_pipe.fit(X, y)\n",
    "# y_holdout_pred = logreg_pipe.predict_proba(hold_out)[:,1]\n",
    "\n",
    "# #### write the data into csv ##########\n",
    "# with open('output_log.csv', 'w') as f:\n",
    "#     f.write('ID' + ',' + 'subscribed\\n')\n",
    "#     for i in range(y_holdout_pred.shape[0]):\n",
    "#         f.write( str(ID[i]) + ',' + str(y_holdout_pred[i]) + '\\n' )"
   ]
  },
  {
   "cell_type": "markdown",
   "metadata": {
    "deletable": true,
    "editable": true
   },
   "source": [
    "Here we obtain the best score for Logistic Regression. We uploaded it and it achieves 0.78318, which is higher than the benchmark. Thus we think this model has a good performance and we can further apply it in our ensemble part.\n",
    "\n",
    "#### b. SVM"
   ]
  },
  {
   "cell_type": "code",
   "execution_count": null,
   "metadata": {
    "collapsed": false,
    "deletable": true,
    "editable": true
   },
   "outputs": [],
   "source": [
    "# ################## SVM ###########################\n",
    "# from sklearn.svm import SVC\n",
    "from imblearn.pipeline import make_pipeline as make_imb_pipeline\n",
    "\n",
    "# svm_pipe = make_imb_pipeline(StandardScaler(), RandomOverSampler(), SVC())\n",
    "# scores = cross_val_score(svm_pipe, X, y, cv=10, scoring='roc_auc')\n",
    "# print(np.mean(scores))"
   ]
  },
  {
   "cell_type": "markdown",
   "metadata": {
    "deletable": true,
    "editable": true
   },
   "source": [
    "We found out that the score of SVM model is rather low (0.721411693334), and it is super slow. So we decided not to use it or tune it furturemore.\n",
    "\n",
    "#### c. KNN"
   ]
  },
  {
   "cell_type": "code",
   "execution_count": null,
   "metadata": {
    "collapsed": false,
    "deletable": true,
    "editable": true
   },
   "outputs": [],
   "source": [
    "# ####################  KNN  #############################\n",
    "# from sklearn.neighbors import KNeighborsClassifier\n",
    "# from sklearn.model_selection import GridSearchCV\n",
    "\n",
    "# param_grid = {'n_neighbors':  np.arange(1, 10, 3)}\n",
    "# grid = GridSearchCV(KNeighborsClassifier(), param_grid=param_grid)\n",
    "# grid.fit(X, y)\n",
    "# print(\"best mean cross-validation score: {:.3f}\".format(grid.best_score_))\n",
    "# print(\"best parameters: {}\".format(grid.best_params_))"
   ]
  },
  {
   "cell_type": "markdown",
   "metadata": {
    "deletable": true,
    "editable": true
   },
   "source": [
    "Here we can see the best parameter `n_neighbors` is 4, so we apply it in our model."
   ]
  },
  {
   "cell_type": "code",
   "execution_count": null,
   "metadata": {
    "collapsed": false,
    "deletable": true,
    "editable": true
   },
   "outputs": [],
   "source": [
    "from imblearn.pipeline import make_pipeline as make_imb_pipeline\n",
    "from imblearn.over_sampling import RandomOverSampler\n",
    "# from sklearn.neighbors import KNeighborsClassifier\n",
    "\n",
    "# KNN_pipe = make_imb_pipeline(StandardScaler(), KNeighborsClassifier(n_neighbors = 4))\n",
    "# KNN_pipe.fit(X, y) \n",
    "# knn_pred = KNN_pipe.predict_proba(hold_out)[:,1]"
   ]
  },
  {
   "cell_type": "markdown",
   "metadata": {
    "deletable": true,
    "editable": true
   },
   "source": [
    "The result of KNN got a rather low score on Leaderboard, which is 0.71306. Thus we decided to throw it away."
   ]
  },
  {
   "cell_type": "markdown",
   "metadata": {
    "deletable": true,
    "editable": true
   },
   "source": [
    "# Step3 - ModelSet2 [35 points]\n",
    "\n",
    "In this step, we expect you to perform the following steps relevant to the models you choose for set2:\n",
    "\n",
    "* feature engineering\n",
    "* validation\n",
    "* feature selection\n",
    "* final model selection\n",
    "\n",
    "You may select up to 5 models in this step for the purpose of final ensemble. We encourage you to try decition tree, random forest and gradient boosted tree methods here and pick the one which you think works best."
   ]
  },
  {
   "cell_type": "markdown",
   "metadata": {
    "deletable": true,
    "editable": true
   },
   "source": [
    "### Feature Selection"
   ]
  },
  {
   "cell_type": "markdown",
   "metadata": {
    "collapsed": false,
    "deletable": true,
    "editable": true
   },
   "source": [
    "#### a. mutual information"
   ]
  },
  {
   "cell_type": "code",
   "execution_count": 39,
   "metadata": {
    "collapsed": false,
    "deletable": true,
    "editable": true
   },
   "outputs": [],
   "source": [
    "from sklearn.feature_selection import mutual_info_regression\n",
    "# mi = mutual_info_regression(X, y)\n",
    "# inds = np.argsort(mi)\n",
    "\n",
    "# top_n =X.shape[1]\n",
    "\n",
    "# plt.figure(figsize=(10, 20))\n",
    "# plt.barh(np.arange(top_n), mi[inds[-top_n:]])\n",
    "# plt.yticks(np.arange(top_n), X.columns[inds[-top_n:]])\n",
    "# plt.ylim(0, top_n)\n",
    "# plt.show()"
   ]
  },
  {
   "cell_type": "markdown",
   "metadata": {
    "deletable": true,
    "editable": true
   },
   "source": [
    "Here because the mutual info regression is rather slow, we comment it. The plot tells us that only the first 75% are not 0, which means we can select a percentile in our raw data. \n",
    "\n",
    "Create a new dataset with only top 50% importance features"
   ]
  },
  {
   "cell_type": "code",
   "execution_count": null,
   "metadata": {
    "collapsed": false,
    "deletable": true,
    "editable": true
   },
   "outputs": [],
   "source": [
    "# from sklearn.feature_selection import mutual_info_regression\n",
    "# MIR_Selection=SelectPercentile(score_func=mutual_info_regression, percentile=50)\n",
    "\n",
    "\n",
    "# MIR_Selection_fit=MIR_Selection.fit(X,y)  #here, training are the first 9 data vectors, and the last one is the test set\n",
    "# MIR_Selection_Transform=MIR_Selection.transform(X)  #here, training are the first 9 data vectors, and the last one is the test set\n",
    "# idx = np.arange(0, X.shape[1])  #create an index array\n",
    "# features_to_keep = idx[MIR_Selection.get_support() == True]  #get index positions of kept features\n",
    "\n",
    "# X_new=X[X.columns[features_to_keep]]"
   ]
  },
  {
   "cell_type": "markdown",
   "metadata": {
    "deletable": true,
    "editable": true
   },
   "source": [
    "### Resampling\n",
    "\n",
    "As you can see from the Part 1, only 11% users subscribes the bank's service. The data is imbalaced, so we need to resample the data.\n",
    "\n",
    "We will compare perfromance of EnsembleResampling, OverSampling, UnderSampling in decision tree model.\n",
    "\n",
    "I will apply the one with best performance to Random Froest and Gradient Boosting."
   ]
  },
  {
   "cell_type": "markdown",
   "metadata": {
    "deletable": true,
    "editable": true
   },
   "source": [
    "### Model Selection"
   ]
  },
  {
   "cell_type": "markdown",
   "metadata": {
    "deletable": true,
    "editable": true
   },
   "source": [
    "#### a. Decision Tree\n",
    "\n",
    "###### Undersampling"
   ]
  },
  {
   "cell_type": "code",
   "execution_count": 43,
   "metadata": {
    "collapsed": false,
    "deletable": true,
    "editable": true
   },
   "outputs": [
    {
     "name": "stdout",
     "output_type": "stream",
     "text": [
      "0.74507638924\n"
     ]
    }
   ],
   "source": [
    "#with polynomial features, undersampling, and decision tree\n",
    "from sklearn.preprocessing import PolynomialFeatures\n",
    "from sklearn.feature_selection import SelectPercentile, VarianceThreshold\n",
    "from imblearn.under_sampling import RandomUnderSampler\n",
    "from sklearn.tree import DecisionTreeClassifier\n",
    "\n",
    "pipe_under_DT = make_imb_pipeline(PolynomialFeatures(interaction_only=True), VarianceThreshold(),\n",
    "                     RandomUnderSampler(),DecisionTreeClassifier(max_features='auto',max_depth=10,random_state=2))\n",
    "\n",
    "#Build the decision tree model and do cross validation\n",
    "scores = np.mean(cross_val_score(pipe_under_DT, X, y, cv=10, scoring='roc_auc'))\n",
    "print(scores)"
   ]
  },
  {
   "cell_type": "markdown",
   "metadata": {
    "deletable": true,
    "editable": true
   },
   "source": [
    "##### Oversampling"
   ]
  },
  {
   "cell_type": "code",
   "execution_count": 45,
   "metadata": {
    "collapsed": false,
    "deletable": true,
    "editable": true
   },
   "outputs": [
    {
     "name": "stdout",
     "output_type": "stream",
     "text": [
      "0.756862201086\n"
     ]
    }
   ],
   "source": [
    "#with polynomial features, undersampling, and decision tree\n",
    "\n",
    "pipe_over_DT = make_imb_pipeline(PolynomialFeatures(interaction_only=True), VarianceThreshold(),\n",
    "                     RandomOverSampler(),DecisionTreeClassifier(max_features='auto',max_depth=10,random_state=2))\n",
    "\n",
    "#Build the decision tree model and do cross validation\n",
    "scores = np.mean(cross_val_score(pipe_over_DT, X, y, cv=10, scoring='roc_auc'))\n",
    "print(scores)"
   ]
  },
  {
   "cell_type": "markdown",
   "metadata": {
    "deletable": true,
    "editable": true
   },
   "source": [
    "##### EnsembleResampling"
   ]
  },
  {
   "cell_type": "code",
   "execution_count": 46,
   "metadata": {
    "collapsed": false,
    "deletable": true,
    "editable": true
   },
   "outputs": [],
   "source": [
    "from sklearn.base import clone\n",
    "from sklearn.model_selection import cross_val_score\n",
    "from sklearn.ensemble import VotingClassifier\n",
    "\n",
    "def make_resampled_ensemble(estimator, n_estimators=100):\n",
    "    estimators = []\n",
    "    for i in range(n_estimators):\n",
    "        est = clone(estimator)\n",
    "        if hasattr(est, \"random_state\"):\n",
    "            est.random_state = i\n",
    "        pipe = make_imb_pipeline(StandardScaler(), RandomUnderSampler(random_state=i, replacement=True), est)\n",
    "        estimators.append((\"est_i\".format(i), pipe))\n",
    "    return VotingClassifier(estimators, voting=\"soft\")"
   ]
  },
  {
   "cell_type": "code",
   "execution_count": 47,
   "metadata": {
    "collapsed": false,
    "deletable": true,
    "editable": true
   },
   "outputs": [
    {
     "data": {
      "text/plain": [
       "VotingClassifier(estimators=[('est_i', Pipeline(steps=[('standardscaler', StandardScaler(copy=True, with_mean=True, with_std=True)), ('randomundersampler', RandomUnderSampler(random_state=0, ratio='auto', replacement=True,\n",
       "          return_indices=False)), ('decisiontreeclassifier', DecisionTreeClassifier(class_weig...t=2, min_weight_fraction_leaf=0.0,\n",
       "            presort=False, random_state=99, splitter='best'))]))],\n",
       "         n_jobs=1, voting='soft', weights=None)"
      ]
     },
     "execution_count": 47,
     "metadata": {},
     "output_type": "execute_result"
    }
   ],
   "source": [
    "from sklearn.tree import DecisionTreeClassifier\n",
    "\n",
    "resampled_tree_test = make_resampled_ensemble(DecisionTreeClassifier(max_features='auto'))\n",
    "resampled_tree_test"
   ]
  },
  {
   "cell_type": "code",
   "execution_count": 48,
   "metadata": {
    "collapsed": false,
    "deletable": true,
    "editable": true
   },
   "outputs": [
    {
     "data": {
      "text/plain": [
       "0.78558216943897285"
      ]
     },
     "execution_count": 48,
     "metadata": {},
     "output_type": "execute_result"
    }
   ],
   "source": [
    "np.mean(cross_val_score(resampled_tree_test, X, y, cv =10, scoring = 'roc_auc'))"
   ]
  },
  {
   "cell_type": "markdown",
   "metadata": {
    "deletable": true,
    "editable": true
   },
   "source": [
    "As you can see above, Ensemblesampling doing the best job.  so we will use the ensemblesampling to comapre the three\n",
    "models performance"
   ]
  },
  {
   "cell_type": "code",
   "execution_count": null,
   "metadata": {
    "collapsed": true,
    "deletable": true,
    "editable": true
   },
   "outputs": [],
   "source": [
    "# model = resampled_tree_test.fit(X, y)\n",
    "\n",
    "# voting = model.predict_proba(hold_out)[:,1]\n",
    "\n",
    "# with open('output-voting.csv', 'w') as f:\n",
    "#     f.write('ID' + ',' + 'subscribed\\n')\n",
    "#     for i in range(voting.shape[0]):\n",
    "#         f.write( str(ID[i]) + ',' + str(voting[i]) + '\\n' )"
   ]
  },
  {
   "cell_type": "markdown",
   "metadata": {
    "deletable": true,
    "editable": true
   },
   "source": [
    "Here we uploaded the results to leaderboard, and it increases the score slightly.\n",
    "\n",
    "##### Parameter Tuning\n",
    "Tuning the Max depth parameter using Gradient Search"
   ]
  },
  {
   "cell_type": "code",
   "execution_count": null,
   "metadata": {
    "collapsed": false,
    "deletable": true,
    "editable": true
   },
   "outputs": [],
   "source": [
    "# #with polynomial features, undersampling, and decision tree\n",
    "# pipe_ES_DT = make_imb_pipeline(PolynomialFeatures(interaction_only=True), VarianceThreshold(),\n",
    "#                      make_resampled_ensemble(DecisionTreeClassifier(max_features='auto',random_state=2)))\n",
    "# #Tunning the max_depth\n",
    "# param_grid={'votingclassifier__est_i__decisiontreeclassifier__max_depth':range(6,12,1)}\n",
    "# grid=GridSearchCV(pipe_ES_DT,param_grid,cv=10,scoring='roc_auc')\n",
    "# grid.fit(X_new, y)\n",
    "# print(grid.best_params_)\n",
    "# print(grid.best_score_ )#roc_auc\n",
    "\n",
    "# #Build the decision tree model\n",
    "# DT2 = pipe_ES_DT(max_features='auto',max_depth=grid.best_params_['votingclassifier__est_i__decisiontreeclassifier__max_depth'])\n",
    "# DT_ensemble2=DT2.fit(X, y)"
   ]
  },
  {
   "cell_type": "markdown",
   "metadata": {
    "deletable": true,
    "editable": true
   },
   "source": [
    "The best `max_depth` for decision tree is 9, and cv is 0.782894109269."
   ]
  },
  {
   "cell_type": "code",
   "execution_count": null,
   "metadata": {
    "collapsed": false,
    "deletable": true,
    "editable": true
   },
   "outputs": [],
   "source": [
    "# #### Resampling the data\n",
    "# resampled_decisiontree_test= make_resampled_ensemble(DecisionTreeClassifier(max_features='auto'))\n",
    "# param_grid={'est_i__decisiontreeclassifier__max_depth':range(9,11,1)}\n",
    "# grid=GridSearchCV(resampled_decisiontree_test,param_grid,cv=10,scoring='roc_auc')\n",
    "# a=grid.fit(X, y)\n",
    "\n",
    "# print(grid.best_params_)\n",
    "# print(grid.best_score_ )#roc_auc"
   ]
  },
  {
   "cell_type": "markdown",
   "metadata": {
    "deletable": true,
    "editable": true
   },
   "source": [
    "After resampling, the best `max_depth` is 9, and cv is 0.789987015523."
   ]
  },
  {
   "cell_type": "markdown",
   "metadata": {
    "deletable": true,
    "editable": true
   },
   "source": [
    "#### b. Random Forest"
   ]
  },
  {
   "cell_type": "code",
   "execution_count": 56,
   "metadata": {
    "collapsed": false,
    "deletable": true,
    "editable": true
   },
   "outputs": [],
   "source": [
    "# #with polynomial features, undersampling, and decision tree\n",
    "# pipe_ES_RF = make_imb_pipeline(PolynomialFeatures(interaction_only=True), VarianceThreshold(),\n",
    "#                      make_resampled_ensemble(RandomForestClassifier(max_features='auto',random_state=2)))\n",
    "# #Tunning the max_depth\n",
    "# param_grid={'votingclassifier__est_i__randomforestclassifier__max_depth':range(6,8,1)}\n",
    "# grid=GridSearchCV(pipe_ES_RF,param_grid,cv=10,scoring='roc_auc')\n",
    "# grid.fit(X_new, y)\n",
    "# print(grid.best_params_)\n",
    "# print(grid.best_score_ )#roc_auc\n",
    "# #\n",
    "#Build the decision tree model\n",
    "from sklearn.ensemble import RandomForestClassifier\n",
    "rf = make_imb_pipeline(make_resampled_ensemble(RandomForestClassifier(max_features='auto',random_state=2,max_depth=6)))\n",
    "scores = np.mean(cross_val_score(rf, X, y, cv=10, scoring='roc_auc'))"
   ]
  },
  {
   "cell_type": "code",
   "execution_count": 59,
   "metadata": {
    "collapsed": false,
    "deletable": true,
    "editable": true
   },
   "outputs": [
    {
     "name": "stdout",
     "output_type": "stream",
     "text": [
      "0.795069526485\n"
     ]
    }
   ],
   "source": [
    "print(np.mean(scores))"
   ]
  },
  {
   "cell_type": "markdown",
   "metadata": {
    "deletable": true,
    "editable": true
   },
   "source": [
    "Here because of the GridSearch, it takes a long time to run again. Here the best `max_depth` is 6, and the best cv is 0.7970404663."
   ]
  },
  {
   "cell_type": "markdown",
   "metadata": {
    "collapsed": true,
    "deletable": true,
    "editable": true
   },
   "source": [
    "#### c. Gradient Boosting"
   ]
  },
  {
   "cell_type": "markdown",
   "metadata": {
    "deletable": true,
    "editable": true
   },
   "source": [
    "##### Parameter Tuning"
   ]
  },
  {
   "cell_type": "code",
   "execution_count": null,
   "metadata": {
    "collapsed": false,
    "deletable": true,
    "editable": true
   },
   "outputs": [],
   "source": [
    "from imblearn.pipeline import make_pipeline as make_imb_pipeline\n",
    "from sklearn.ensemble import GradientBoostingClassifier\n",
    "from sklearn.preprocessing import PolynomialFeatures\n",
    "from sklearn.feature_selection import SelectPercentile, VarianceThreshold\n",
    "from sklearn.model_selection import GridSearchCV\n",
    "\n",
    "\n",
    "\n",
    "\n",
    "# #with polynomial features, undersampling, and gradient boosting\n",
    "# pipe_ES_GB = make_imb_pipeline(PolynomialFeatures(interaction_only=True), VarianceThreshold(),\n",
    "#                      make_resampled_ensemble(GradientBoostingClassifier(max_features='sqrt',random_state=2,n_estimators=120)))\n",
    "# #Tunning the max_depth\n",
    "# param_grid={'votingclassifier__est_i__gradientboostingclassifier__max_depth':range(6,12,1),\n",
    "#             'votingclassifier__est_i__gradientboostingclassifier__learning_rate':np.arange(0.01,0.1,0.01),\n",
    "#             'votingclassifier__est_i__gradientboostingclassifier__min_samples_split':range(450,550,10),\n",
    "#             'votingclassifier__est_i__gradientboostingclassifier__min_samples_leaf':range(20,70,10)\n",
    "           \n",
    "           \n",
    "#            }\n",
    "# grid=GridSearchCV(pipe_ES_GB,param_grid,cv=10,scoring='roc_auc')\n",
    "# grid.fit(X_new, y)\n",
    "# print(grid.best_params_)\n",
    "# print(grid.best_score_ )#roc_auc"
   ]
  },
  {
   "cell_type": "markdown",
   "metadata": {
    "deletable": true,
    "editable": true
   },
   "source": [
    "Here we come up with the best parameters:\n",
    "max_depth = 9, n_estimators = 120, learning_rate = 0.05, max_features = 'sqrt', min_samples_split = 500, min_samples_leaf = 50\n",
    "\n",
    "Because it takes too long, we comment it."
   ]
  },
  {
   "cell_type": "code",
   "execution_count": 52,
   "metadata": {
    "collapsed": false,
    "deletable": true,
    "editable": true
   },
   "outputs": [
    {
     "name": "stdout",
     "output_type": "stream",
     "text": [
      "0.7970404663\n"
     ]
    }
   ],
   "source": [
    "from sklearn.ensemble import GradientBoostingClassifier\n",
    "\n",
    "oversample_pipe = make_imb_pipeline(StandardScaler(), RandomOverSampler(), \n",
    "                                    GradientBoostingClassifier(max_depth = 9, n_estimators = 120, \n",
    "                                                               learning_rate = 0.05, max_features = 'sqrt', \n",
    "                                                               min_samples_split = 500, min_samples_leaf = 50))\n",
    "scores = cross_val_score(oversample_pipe, X, y, cv=10, scoring='roc_auc')\n",
    "print(np.mean(scores))"
   ]
  },
  {
   "cell_type": "code",
   "execution_count": null,
   "metadata": {
    "collapsed": false,
    "deletable": true,
    "editable": true
   },
   "outputs": [],
   "source": [
    "# gbc = GradientBoostingClassifier(max_depth = 9, n_estimators = 120, learning_rate = 0.05, max_features = 'sqrt', min_samples_split = 500, min_samples_leaf = 50).fit(X,y)\n",
    "# gbc_pred = gbc.predict_proba(hold_out)[:,1]\n",
    "\n",
    "# with open('output-gbc.csv', 'w') as f:\n",
    "#     f.write('ID' + ',' + 'subscribed\\n')\n",
    "#     for i in range(gbc_pred.shape[0]):\n",
    "#         f.write( str(ID[i]) + ',' + str(gbc_pred[i]) + '\\n' )"
   ]
  },
  {
   "cell_type": "markdown",
   "metadata": {
    "deletable": true,
    "editable": true
   },
   "source": [
    "We upload the result and it achieves one of the highest score."
   ]
  },
  {
   "cell_type": "markdown",
   "metadata": {
    "deletable": true,
    "editable": true
   },
   "source": [
    "# Step4 - Ensemble [20 points + 10 Bonus points]\n",
    "\n",
    "In this step, we expect you to use the models created before and create new predictions. You should definitely try poor man's stacking but we encourage you to think of different ensemble techniques as well. We will judge your creativity and improvement in model performance using ensemble models and you can potentially earn 10 bonus points here."
   ]
  },
  {
   "cell_type": "markdown",
   "metadata": {
    "deletable": true,
    "editable": true
   },
   "source": [
    "#### a. Voting Classifier (Gradient Boosting + Logistic Regression)"
   ]
  },
  {
   "cell_type": "code",
   "execution_count": 60,
   "metadata": {
    "collapsed": false,
    "deletable": true,
    "editable": true
   },
   "outputs": [
    {
     "name": "stdout",
     "output_type": "stream",
     "text": [
      "0.797373712644\n"
     ]
    }
   ],
   "source": [
    "voting2 = VotingClassifier([('logreg', proba_logreg(C=400)),\n",
    "                          ('gb', GradientBoostingClassifier(max_depth = 9, n_estimators = 120, \n",
    "                                                               learning_rate = 0.05, max_features = 'sqrt', \n",
    "                                                               min_samples_split = 500, min_samples_leaf = 50))],\n",
    "                         voting = 'soft')\n",
    "\n",
    "vc_pipe = make_imb_pipeline(StandardScaler(), RandomOverSampler(), voting2)\n",
    "\n",
    "final_scores = cross_val_score(vc_pipe, X, y, cv=10, scoring='roc_auc')\n",
    "print(np.mean(final_scores))"
   ]
  },
  {
   "cell_type": "code",
   "execution_count": null,
   "metadata": {
    "collapsed": false,
    "deletable": true,
    "editable": true
   },
   "outputs": [],
   "source": [
    "# vc = vc_pipe.fit(X, y)\n",
    "# vc_pred = vc.predict_proba(hold_out)[:,1]\n",
    "# with open('output-voting2.csv', 'w') as f:\n",
    "#     f.write('ID' + ',' + 'subscribed\\n')\n",
    "#     for i in range(vc_pred.shape[0]):\n",
    "#         f.write( str(ID[i]) + ',' + str(vc_pred[i]) + '\\n' )"
   ]
  },
  {
   "cell_type": "markdown",
   "metadata": {
    "deletable": true,
    "editable": true
   },
   "source": [
    "#### b. Poorman Stacking"
   ]
  },
  {
   "cell_type": "code",
   "execution_count": 68,
   "metadata": {
    "collapsed": false,
    "deletable": true,
    "editable": true
   },
   "outputs": [
    {
     "name": "stdout",
     "output_type": "stream",
     "text": [
      "0.897307864239\n"
     ]
    }
   ],
   "source": [
    "from sklearn.preprocessing import FunctionTransformer\n",
    "\n",
    "#preprocessing (Scale and resample the data)\n",
    "scaler =StandardScaler().fit(X)\n",
    "X_scaled=scaler.transform(X)\n",
    "ros = RandomOverSampler(random_state=42)\n",
    "X_processed,y_processed=ros.fit_sample(X_scaled,y)\n",
    "\n",
    "#use reshaper to keep only the probabilities of the positive classes!\n",
    "reshaper = FunctionTransformer(lambda X_: np.rollaxis(X_, 1).reshape(-1, 4)[:, 1::2], validate=False)\n",
    "stacking = make_pipeline(voting2, reshaper,\n",
    "                         LogisticRegression(C=100))\n",
    "stack=stacking.fit(X_processed, y_processed)\n",
    "print(np.mean(cross_val_score(stack, X_processed, y_processed, cv=10, scoring='roc_auc')))"
   ]
  },
  {
   "cell_type": "markdown",
   "metadata": {
    "deletable": true,
    "editable": true
   },
   "source": [
    "Here we found the score is rather high, which may be overfitting. We built a stacking to avoid overfitting then."
   ]
  },
  {
   "cell_type": "code",
   "execution_count": 71,
   "metadata": {
    "collapsed": false,
    "deletable": true,
    "editable": true
   },
   "outputs": [
    {
     "name": "stdout",
     "output_type": "stream",
     "text": [
      "0.860109388414\n",
      "[[-12.21289851  16.78134422]]\n"
     ]
    }
   ],
   "source": [
    "from sklearn.model_selection import cross_val_predict\n",
    "first_stage = make_pipeline(voting2, reshaper)\n",
    "transform_cv = cross_val_predict(first_stage, X_processed, y_processed, cv=10, method=\"transform\")\n",
    "\n",
    "#### Coefficent for each functions\n",
    "\n",
    "second_stage = LogisticRegression(C=100).fit(transform_cv, y_processed)\n",
    "print(np.mean(cross_val_score(second_stage, transform_cv, y_processed, cv=10, scoring='roc_auc')))\n",
    "print(second_stage.coef_)"
   ]
  },
  {
   "cell_type": "markdown",
   "metadata": {
    "deletable": true,
    "editable": true
   },
   "source": [
    "Now the score is rather low, we further generate a prediction with holdout dataset, and the result below got a really low score as 0.67098 on leaderboard. So it won't be a good choice."
   ]
  },
  {
   "cell_type": "code",
   "execution_count": null,
   "metadata": {
    "collapsed": true,
    "deletable": true,
    "editable": true
   },
   "outputs": [],
   "source": [
    "# #scale the holdout data\n",
    "# holdout_scaled=scaler.transform(hold_out)\n",
    "\n",
    "# #prediction for stacking\n",
    "# y_predict=stacking.predict_proba(holdout_scaled)[:,1]\n",
    "\n",
    "# #prediction for a hold-out stacking \n",
    "# y_predict=second_stage.transform(first_stage.transform(holdout_scaled))\n",
    "\n",
    "# with open('output.csv', 'w') as f:\n",
    "#     f.write('ID' + ',' + 'subscribed\\n')\n",
    "#     for i in range(y_predict.shape[0]):\n",
    "#         f.write( str(ID[i]) + ',' + str(y_predict[i]) + '\\n' )"
   ]
  },
  {
   "cell_type": "markdown",
   "metadata": {
    "deletable": true,
    "editable": true
   },
   "source": [
    "#### c. Weighted Ensemble Model\n",
    "\n",
    "Instead of modeling avearge, we assign more weights to the classifier in a better peformance.\n",
    "\n",
    "\n",
    "##### GridSearch"
   ]
  },
  {
   "cell_type": "code",
   "execution_count": null,
   "metadata": {
    "collapsed": true,
    "deletable": true,
    "editable": true
   },
   "outputs": [],
   "source": [
    "# np.random.seed(123)\n",
    "\n",
    "# df = pd.DataFrame(columns=('w1', 'w2', 'mean', 'std'))\n",
    "# ###doin thte same thing as Gradient Search\n",
    "# i = 0\n",
    "# for w1 in range(1,4):\n",
    "#     for w2 in range(1,4):\n",
    "\n",
    "\n",
    "#         if len(set((w1,w2))) == 1: # skip if all weights are equal\n",
    "#             continue\n",
    "\n",
    "#         voting3 = VotingClassifier([('logreg', proba_logreg(C=400)),\n",
    "#                           ('gb', GradientBoostingClassifier(max_depth = 9, \n",
    "#                                                 n_estimators = 120, learning_rate = 0.05, \n",
    "#                                                                               min_samples_split = 500, min_samples_leaf = 50))],\n",
    "#                          voting = 'soft',weights=[w1,w2])\n",
    "#         vc_pipe1 = make_imb_pipeline(StandardScaler(), RandomOverSampler(), voting3)\n",
    "\n",
    "#         scores = np.mean(cross_val_score(vc_pipe1, X_new, y, cv=3, scoring='roc_auc'))\n",
    "\n",
    "#         df.loc[i] = [w1, w2, scores.mean(), scores.std()]\n",
    "#         i += 1\n",
    "\n",
    "# df.sort(columns=['mean', 'std'], ascending=False)"
   ]
  },
  {
   "cell_type": "markdown",
   "metadata": {
    "deletable": true,
    "editable": true
   },
   "source": [
    "\n",
    "\n",
    "Index |\tw1|\tw2|\tmean_cv|std\n",
    "------|---|---|-----|--------\n",
    "4\t|3.0|\t1.0|\t0.795457|\t0.0\n",
    "2\t|2.0|\t1.0\t|0.795346\t|0.0\n",
    "5\t|3.0|\t2.0\t|0.795286|\t0.0\n",
    "1\t|1.0|\t3.0\t|0.795042|\t0.0\n",
    "0\t|1.0|\t2.0\t|0.794624|\t0.0\n",
    "3\t|2.0|\t3.0\t|0.793196|\t0.0"
   ]
  },
  {
   "cell_type": "code",
   "execution_count": 77,
   "metadata": {
    "collapsed": true,
    "deletable": true,
    "editable": true
   },
   "outputs": [],
   "source": [
    "#Build the  model\n",
    "voting3 = VotingClassifier([('logreg', proba_logreg(C=400)),\n",
    "                          ('gb', GradientBoostingClassifier(max_depth = 9, \n",
    "                                                n_estimators = 120, learning_rate = 0.05, \n",
    "                                                                              min_samples_split = 500, min_samples_leaf = 50))],\n",
    "                         voting = 'soft',weights=[3,1])\n",
    "\n",
    "vc_pipe1 = make_imb_pipeline(StandardScaler(), RandomOverSampler(), voting3)"
   ]
  },
  {
   "cell_type": "code",
   "execution_count": null,
   "metadata": {
    "collapsed": true,
    "deletable": true,
    "editable": true
   },
   "outputs": [],
   "source": [
    "# vc_pipe1.fit(X_new, y)\n",
    "# y_predict=vc_pipe1.predict_proba(hold_out_new)[:,1]\n",
    "\n",
    "\n",
    "# with open('output_we.csv', 'w') as f:\n",
    "#     f.write('ID' + ',' + 'subscribed\\n')\n",
    "#     for i in range(y_predict.shape[0]):\n",
    "#         f.write( str(ID[i]) + ',' + str(y_predict[i]) + '\\n' )"
   ]
  },
  {
   "cell_type": "markdown",
   "metadata": {
    "deletable": true,
    "editable": true
   },
   "source": [
    "Here we submit the output csv to the leaderboard, which we found is an improvement of the pure model. However it is not an improvement of modeling average. So we may not apply it finally. This may be because we haven't found the best weight due to the time limit, as it is a time consuming process."
   ]
  },
  {
   "cell_type": "markdown",
   "metadata": {
    "deletable": true,
    "editable": true
   },
   "source": [
    "# Conclusion\n",
    "\n",
    "Overall, we found that the highest score on LeaderBoard is from the **Voting Classifier ensemble model**. Thus, we chose it as our final model."
   ]
  },
  {
   "cell_type": "markdown",
   "metadata": {
    "deletable": true,
    "editable": true
   },
   "source": [
    "### Travis"
   ]
  },
  {
   "cell_type": "code",
   "execution_count": 61,
   "metadata": {
    "collapsed": false,
    "deletable": true,
    "editable": true
   },
   "outputs": [],
   "source": [
    "#write code below, you can make multiple cells\n",
    "assert np.mean(final_scores) >=0.79"
   ]
  },
  {
   "cell_type": "code",
   "execution_count": null,
   "metadata": {
    "collapsed": true,
    "deletable": true,
    "editable": true
   },
   "outputs": [],
   "source": []
  }
 ],
 "metadata": {
  "anaconda-cloud": {},
  "kernelspec": {
   "display_name": "Python 3",
   "language": "python",
   "name": "python3"
  },
  "language_info": {
   "codemirror_mode": {
    "name": "ipython",
    "version": 3
   },
   "file_extension": ".py",
   "mimetype": "text/x-python",
   "name": "python",
   "nbconvert_exporter": "python",
   "pygments_lexer": "ipython3",
   "version": "3.4.3"
  }
 },
 "nbformat": 4,
 "nbformat_minor": 2
}
